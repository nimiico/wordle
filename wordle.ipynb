{
 "cells": [
  {
   "cell_type": "code",
   "execution_count": 2,
   "metadata": {},
   "outputs": [],
   "source": [
    "from termcolor import colored"
   ]
  },
  {
   "cell_type": "markdown",
   "metadata": {},
   "source": [
    "# Build Data"
   ]
  },
  {
   "cell_type": "code",
   "execution_count": 3,
   "metadata": {},
   "outputs": [],
   "source": [
    "def generate_word_ferequency(file_path, word_len: int=5, limit: int=1000):\n",
    "    #Build Data\n",
    "    words_freq = []\n",
    "\n",
    "    with open (file_path) as f:\n",
    "        for line in f:\n",
    "            word, frequency = line.split(', ')\n",
    "            frequency = int(frequency)\n",
    "            words_freq.append((word, frequency))\n",
    "\n",
    "    # Sort Data\n",
    "    words = sorted(words_freq, key=lambda w_freq: w_freq[1], reverse=True)\n",
    "\n",
    "    # Limit Data\n",
    "    words = words[:limit]\n",
    "\n",
    "    #Drop Frequency Data\n",
    "    words = [w_freq[0] for w_freq in words_freq]\n",
    "\n",
    "    # Filter Data\n",
    "    words = list(filter(lambda w: len(w) == word_len, words))\n",
    "    return words"
   ]
  },
  {
   "cell_type": "code",
   "execution_count": 4,
   "metadata": {},
   "outputs": [],
   "source": [
    "file_path = './src/data/words_frequency.txt'"
   ]
  },
  {
   "cell_type": "code",
   "execution_count": 5,
   "metadata": {},
   "outputs": [],
   "source": [
    "word_len = 5\n",
    "limit = 10000"
   ]
  },
  {
   "cell_type": "code",
   "execution_count": 6,
   "metadata": {},
   "outputs": [],
   "source": [
    "words = generate_word_ferequency(file_path, word_len=word_len, limit=limit)"
   ]
  },
  {
   "cell_type": "markdown",
   "metadata": {},
   "source": [
    "# Select a random word"
   ]
  },
  {
   "cell_type": "code",
   "execution_count": 7,
   "metadata": {},
   "outputs": [],
   "source": [
    "import random"
   ]
  },
  {
   "cell_type": "code",
   "execution_count": 8,
   "metadata": {},
   "outputs": [],
   "source": [
    "random.seed(42)"
   ]
  },
  {
   "cell_type": "code",
   "execution_count": 9,
   "metadata": {},
   "outputs": [],
   "source": [
    "word = random.choice(words)\n",
    "word = word.upper()"
   ]
  },
  {
   "cell_type": "code",
   "execution_count": null,
   "metadata": {},
   "outputs": [],
   "source": []
  },
  {
   "cell_type": "code",
   "execution_count": 22,
   "metadata": {},
   "outputs": [
    {
     "ename": "NameError",
     "evalue": "name 'WORD' is not defined",
     "output_type": "error",
     "traceback": [
      "\u001b[0;31m---------------------------------------------------------------------------\u001b[0m",
      "\u001b[0;31mNameError\u001b[0m                                 Traceback (most recent call last)",
      "\u001b[0;32m<ipython-input-22-a5a747dfc77f>\u001b[0m in \u001b[0;36m<module>\u001b[0;34m\u001b[0m\n\u001b[0;32m----> 1\u001b[0;31m \u001b[0mWORD\u001b[0m\u001b[0;34m\u001b[0m\u001b[0;34m\u001b[0m\u001b[0m\n\u001b[0m",
      "\u001b[0;31mNameError\u001b[0m: name 'WORD' is not defined"
     ]
    }
   ],
   "source": [
    "WORD"
   ]
  },
  {
   "cell_type": "code",
   "execution_count": null,
   "metadata": {},
   "outputs": [],
   "source": [
    "word"
   ]
  },
  {
   "cell_type": "code",
   "execution_count": 23,
   "metadata": {},
   "outputs": [
    {
     "data": {
      "text/plain": [
       "'BRUNI'"
      ]
     },
     "execution_count": 23,
     "metadata": {},
     "output_type": "execute_result"
    }
   ],
   "source": [
    "word"
   ]
  },
  {
   "cell_type": "code",
   "execution_count": null,
   "metadata": {},
   "outputs": [],
   "source": [
    "word"
   ]
  },
  {
   "cell_type": "code",
   "execution_count": null,
   "metadata": {},
   "outputs": [],
   "source": []
  },
  {
   "cell_type": "markdown",
   "metadata": {},
   "source": [
    "# Wordle"
   ]
  },
  {
   "cell_type": "code",
   "execution_count": 10,
   "metadata": {},
   "outputs": [],
   "source": [
    "def print_success(text, end='\\n'):\n",
    "    print(colored(text, 'green', attrs=['reverse']), end=end)\n",
    "    \n",
    "def print_warning(text, end='\\n'):\n",
    "    print(colored(text, 'yellow', attrs=['reverse']), end=end)\n",
    "    \n",
    "def print_error(text, end='\\n'):\n",
    "    print(colored(text, 'red', attrs=['reverse']), end=end)\n",
    "    \n",
    "def print_grey(text, end='\\n'):\n",
    "    print(colored(text, 'grey', attrs=['reverse']), end=end)"
   ]
  },
  {
   "cell_type": "code",
   "execution_count": null,
   "metadata": {},
   "outputs": [],
   "source": []
  },
  {
   "cell_type": "code",
   "execution_count": 14,
   "metadata": {},
   "outputs": [
    {
     "name": "stdin",
     "output_type": "stream",
     "text": [
      "Enter a 5 letter word (or q to exit): bruni\n"
     ]
    },
    {
     "name": "stdout",
     "output_type": "stream",
     "text": [
      "BRUNICongratulations\n"
     ]
    }
   ],
   "source": [
    "num_try = 6\n",
    "success = False\n",
    "\n",
    "while num_try:\n",
    "    guess_word = input(f'Enter a {word_len} letter word (or q to exit):')\n",
    "    if guess_word == 'q':\n",
    "        break\n",
    "    guess_word = guess_word.upper()\n",
    "\n",
    "    #Word Length\n",
    "    if len(guess_word) != 5:\n",
    "        print(f'word must have {word_len} letters. you entered {len(guess_word)}!')\n",
    "        continue \n",
    "        \n",
    "    # Check valid word\n",
    "    if guess_word.lower() not in words:\n",
    "        print_warning('word is not valid!')\n",
    "        continue\n",
    "    \n",
    "    # Check valid, invalid position, invalid characters\n",
    "    for w_letter, g_letter in zip(word, guess_word):\n",
    "        if w_letter == g_letter:\n",
    "            print_success(g_letter, end='')\n",
    "        elif g_letter in word:\n",
    "            print_warning(g_letter, end='')\n",
    "        else:\n",
    "            print_grey(g_letter, end='')\n",
    "     \n",
    "    # Check success\n",
    "    if word == guess_word :\n",
    "        print_success('\\nCongratulations')\n",
    "        success = True\n",
    "        break\n",
    "    num_try -= 1\n",
    "    \n",
    "if not success:\n",
    "    print_warning('Game Over')"
   ]
  },
  {
   "cell_type": "code",
   "execution_count": null,
   "metadata": {},
   "outputs": [],
   "source": []
  },
  {
   "cell_type": "code",
   "execution_count": 13,
   "metadata": {},
   "outputs": [
    {
     "data": {
      "text/plain": [
       "'BRUNI'"
      ]
     },
     "execution_count": 13,
     "metadata": {},
     "output_type": "execute_result"
    }
   ],
   "source": [
    "word"
   ]
  },
  {
   "cell_type": "code",
   "execution_count": null,
   "metadata": {},
   "outputs": [],
   "source": []
  },
  {
   "cell_type": "code",
   "execution_count": null,
   "metadata": {},
   "outputs": [],
   "source": []
  },
  {
   "cell_type": "code",
   "execution_count": null,
   "metadata": {},
   "outputs": [],
   "source": []
  },
  {
   "cell_type": "code",
   "execution_count": null,
   "metadata": {},
   "outputs": [],
   "source": []
  },
  {
   "cell_type": "code",
   "execution_count": null,
   "metadata": {},
   "outputs": [],
   "source": []
  },
  {
   "cell_type": "code",
   "execution_count": null,
   "metadata": {},
   "outputs": [],
   "source": []
  },
  {
   "cell_type": "code",
   "execution_count": null,
   "metadata": {},
   "outputs": [],
   "source": []
  },
  {
   "cell_type": "code",
   "execution_count": null,
   "metadata": {},
   "outputs": [],
   "source": []
  }
 ],
 "metadata": {
  "kernelspec": {
   "display_name": "Python 3",
   "language": "python",
   "name": "python3"
  },
  "language_info": {
   "codemirror_mode": {
    "name": "ipython",
    "version": 3
   },
   "file_extension": ".py",
   "mimetype": "text/x-python",
   "name": "python",
   "nbconvert_exporter": "python",
   "pygments_lexer": "ipython3",
   "version": "3.7.6"
  }
 },
 "nbformat": 4,
 "nbformat_minor": 4
}
